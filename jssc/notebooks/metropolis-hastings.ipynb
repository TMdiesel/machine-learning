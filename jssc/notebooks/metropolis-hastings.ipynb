{
 "cells": [
  {
   "cell_type": "markdown",
   "metadata": {},
   "source": [
    "## overview"
   ]
  },
  {
   "cell_type": "code",
   "execution_count": 1,
   "metadata": {},
   "outputs": [],
   "source": [
    "# default package\n",
    "import dataclasses as dc\n",
    "import logging\n",
    "import os\n",
    "import pathlib\n",
    "import random\n",
    "import sys\n",
    "import tempfile\n",
    "from urllib.request import urlretrieve\n",
    "\n",
    "import IPython"
   ]
  },
  {
   "cell_type": "code",
   "execution_count": 2,
   "metadata": {},
   "outputs": [],
   "source": [
    "# third party package\n",
    "import matplotlib\n",
    "import matplotlib.pyplot as plt\n",
    "import numpy as np\n",
    "import pandas as pd\n",
    "import seaborn as sns\n",
    "from matplotlib.font_manager import FontProperties\n",
    "from scipy.stats import norm\n",
    "from tqdm import tqdm"
   ]
  },
  {
   "cell_type": "code",
   "execution_count": 3,
   "metadata": {},
   "outputs": [],
   "source": [
    "# my package\n",
    "sys.path.append(os.path.join(pathlib.Path().resolve(), \"../\"))"
   ]
  },
  {
   "cell_type": "code",
   "execution_count": 4,
   "metadata": {},
   "outputs": [],
   "source": [
    "# reload settings\n",
    "%load_ext autoreload\n",
    "%autoreload 2"
   ]
  },
  {
   "cell_type": "code",
   "execution_count": 5,
   "metadata": {},
   "outputs": [],
   "source": [
    "# logger\n",
    "logger = logging.getLogger(__name__)\n",
    "logging.basicConfig(level=logging.INFO)"
   ]
  },
  {
   "cell_type": "code",
   "execution_count": 6,
   "metadata": {},
   "outputs": [],
   "source": [
    "# graph setting\n",
    "sns.set()\n",
    "font_path = \"/usr/share/fonts/truetype/migmix/migmix-1p-regular.ttf\"\n",
    "font_prop = FontProperties(fname=font_path)\n",
    "matplotlib.rcParams[\"font.family\"] = font_prop.get_name()"
   ]
  },
  {
   "cell_type": "markdown",
   "metadata": {},
   "source": [
    "## サンプリング\n",
    "下記の混合正規分布に従う変数を発生させる。\n",
    "$$\n",
    "\\frac{1}{8}N(-5,1)+\n",
    "\\frac{3}{4}N(0,1)+\n",
    "\\frac{1}{8}N(5,1)\n",
    "$$"
   ]
  },
  {
   "cell_type": "code",
   "execution_count": 7,
   "metadata": {},
   "outputs": [],
   "source": [
    "params = pd.DataFrame(\n",
    "    {\"ave\": [-5, 0, 5], \"scale\": [1, 1, 1], \"ratio\": [1 / 8, 3 / 4, 1 / 8]}\n",
    ")"
   ]
  },
  {
   "cell_type": "code",
   "execution_count": 8,
   "metadata": {},
   "outputs": [],
   "source": [
    "def mixture_pdf(params: pd.DataFrame, x: float):\n",
    "    pdf = 0\n",
    "    for para in params.iterrows():\n",
    "        para_ser = para[1]\n",
    "        pdf += norm.pdf(x, loc=para_ser.ave, scale=para_ser.scale) * para_ser.ratio\n",
    "    return pdf"
   ]
  },
  {
   "cell_type": "code",
   "execution_count": 9,
   "metadata": {},
   "outputs": [
    {
     "data": {
      "text/plain": [
       "[<matplotlib.lines.Line2D at 0x7f8b47f552b0>]"
      ]
     },
     "execution_count": 9,
     "metadata": {},
     "output_type": "execute_result"
    },
    {
     "data": {
      "image/png": "[encoded data removed]",
      "text/plain": [
       "<Figure size 432x288 with 1 Axes>"
      ]
     },
     "metadata": {},
     "output_type": "display_data"
    }
   ],
   "source": [
    "x = np.linspace(-10, 10)\n",
    "plt.plot(mixture_pdf(params, x))"
   ]
  },
  {
   "cell_type": "markdown",
   "metadata": {},
   "source": [
    "### numpy"
   ]
  },
  {
   "cell_type": "code",
   "execution_count": 10,
   "metadata": {},
   "outputs": [],
   "source": [
    "def generate_data(params: pd.DataFrame, n: int = 1000) -> np.ndarray:\n",
    "    x = np.array([])\n",
    "    for para in params.iterrows():\n",
    "        para_ser = para[1]\n",
    "        x = np.append(\n",
    "            x,\n",
    "            np.random.normal(\n",
    "                loc=para_ser.ave, scale=para_ser.scale, size=int(n * para_ser.ratio)\n",
    "            ),\n",
    "        )\n",
    "    return x"
   ]
  },
  {
   "cell_type": "code",
   "execution_count": 11,
   "metadata": {},
   "outputs": [
    {
     "data": {
      "image/png": "[encoded data removed]",
      "text/plain": [
       "<Figure size 432x288 with 1 Axes>"
      ]
     },
     "metadata": {},
     "output_type": "display_data"
    }
   ],
   "source": [
    "x = generate_data(params)\n",
    "plt.hist(x, bins=20);"
   ]
  },
  {
   "cell_type": "markdown",
   "metadata": {},
   "source": [
    "### MH algorithm\n",
    "提案分布からのサンプリング時にrandom walkを使って、変数を発生させる。\n",
    "$$\n",
    "y=\\theta^t+u\n",
    "$$\n",
    "ここで、$u\\sim Uni(0,1)$とする。\n",
    "このとき、採択確率$\\alpha$は、\n",
    "$$\n",
    "\\alpha=min\\{1,\\frac{\\pi (y)}{\\pi (x^t)}\\}\n",
    "$$\n",
    "となる。ここで、$\\pi$は目標分布である。"
   ]
  },
  {
   "cell_type": "code",
   "execution_count": 12,
   "metadata": {},
   "outputs": [],
   "source": [
    "def mh(a: float, params: pd.DataFrame, num: int = 11000):\n",
    "    x = 0\n",
    "    y_series = np.empty(num)\n",
    "    for i in tqdm(range(num)):\n",
    "        epsilon = np.random.rand() * 2 * a - a\n",
    "        u = np.random.rand()\n",
    "        y = x + epsilon\n",
    "        adop_rate = min(1, mixture_pdf(params, y) / mixture_pdf(params, x))\n",
    "        y_series[i] = y if u < adop_rate else x\n",
    "        x = y_series[i]\n",
    "    return y_series"
   ]
  },
  {
   "cell_type": "code",
   "execution_count": 13,
   "metadata": {},
   "outputs": [
    {
     "name": "stderr",
     "output_type": "stream",
     "text": [
      "100%|██████████| 11000/11000 [00:14<00:00, 734.63it/s]\n"
     ]
    }
   ],
   "source": [
    "y_series = mh(a=1, params=params)"
   ]
  },
  {
   "cell_type": "code",
   "execution_count": 14,
   "metadata": {},
   "outputs": [
    {
     "data": {
      "image/png": "[encoded data removed]",
      "text/plain": [
       "<Figure size 432x288 with 1 Axes>"
      ]
     },
     "metadata": {},
     "output_type": "display_data"
    }
   ],
   "source": [
    "plt.hist(y_series[1000:], bins=20);"
   ]
  },
  {
   "cell_type": "code",
   "execution_count": 15,
   "metadata": {},
   "outputs": [
    {
     "data": {
      "image/png": "[encoded data removed]",
      "text/plain": [
       "<Figure size 432x288 with 1 Axes>"
      ]
     },
     "metadata": {},
     "output_type": "display_data"
    }
   ],
   "source": [
    "plt.plot(y_series);"
   ]
  },
  {
   "cell_type": "code",
   "execution_count": null,
   "metadata": {},
   "outputs": [],
   "source": []
  }
 ],
 "metadata": {
  "kernelspec": {
   "display_name": "Python 3",
   "language": "python",
   "name": "python3"
  },
  "language_info": {
   "codemirror_mode": {
    "name": "ipython",
    "version": 3
   },
   "file_extension": ".py",
   "mimetype": "text/x-python",
   "name": "python",
   "nbconvert_exporter": "python",
   "pygments_lexer": "ipython3",
   "version": "3.8.7"
  }
 },
 "nbformat": 4,
 "nbformat_minor": 4
}
